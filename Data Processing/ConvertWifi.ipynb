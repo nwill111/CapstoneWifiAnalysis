{
 "cells": [
  {
   "cell_type": "code",
   "execution_count": 1,
   "metadata": {},
   "outputs": [],
   "source": [
    "import pandas as pd\n",
    "df = pd.DataFrame()\n",
    "import csv"
   ]
  },
  {
   "cell_type": "markdown",
   "metadata": {},
   "source": [
    "## Extract data from raw text wifi log file"
   ]
  },
  {
   "cell_type": "code",
   "execution_count": 2,
   "metadata": {},
   "outputs": [
    {
     "data": {
      "text/plain": [
       "39"
      ]
     },
     "execution_count": 2,
     "metadata": {},
     "output_type": "execute_result"
    }
   ],
   "source": [
    "#Create csv file\n",
    "jan1_csv = open('jan1.csv', 'w')\n",
    "#Column names\n",
    "col_name = ['building', 'date', 'month', 'time', 'device_count']\n",
    "csv_writer = csv.DictWriter(jan1_csv, fieldnames=col_name)\n",
    "csv_writer.writeheader()\n"
   ]
  },
  {
   "cell_type": "code",
   "execution_count": 3,
   "metadata": {},
   "outputs": [],
   "source": [
    "def processLine(buildingName='UREC', wifi_log=''):\n",
    "    count = 0\n",
    "    for log_line in wifi_log:\n",
    "        if buildingName in log_line:\n",
    "            # process device count\n",
    "            if '501080' in log_line or '501105' in log_line or '501106' in log_line:\n",
    "                count += 0\n",
    "            if '501093' in log_line:\n",
    "                count += 1\n",
    "            # Slice the line to get the date and time\n",
    "            atr = log_line.split(' ')\n",
    "            # Extract the data\n",
    "            month = atr[0]\n",
    "            date = atr[1]\n",
    "            time = atr[2]\n",
    "            building = buildingName\n",
    "            # add data to csv file\n",
    "            csv_writer.writerow({'building': building, 'date': date, 'month': month, 'time': time, 'device_count': count})\n"
   ]
  },
  {
   "cell_type": "code",
   "execution_count": 4,
   "metadata": {},
   "outputs": [],
   "source": [
    "wifi_log = open('wireless_09-20-2021.log', 'r')\n",
    "# # print first ten lines in the file\n",
    "# for i in range(3):\n",
    "#     print(wifi_log.readline())\n",
    "\n",
    "# loop through each line in the file\n",
    "processLine(wifi_log=wifi_log)\n",
    "\n",
    "# close the file\n",
    "wifi_log.close()\n"
   ]
  },
  {
   "cell_type": "markdown",
   "metadata": {},
   "source": [
    "# Preprocess the raw csv to something meaningful (non-scalable)"
   ]
  },
  {
   "cell_type": "markdown",
   "metadata": {},
   "source": [
    "### Process the time columns into a timestamp column"
   ]
  },
  {
   "cell_type": "code",
   "execution_count": 13,
   "metadata": {},
   "outputs": [
    {
     "name": "stdout",
     "output_type": "stream",
     "text": [
      "timestamp column type:  datetime64[ns]\n"
     ]
    },
    {
     "data": {
      "text/html": [
       "<div>\n",
       "<style scoped>\n",
       "    .dataframe tbody tr th:only-of-type {\n",
       "        vertical-align: middle;\n",
       "    }\n",
       "\n",
       "    .dataframe tbody tr th {\n",
       "        vertical-align: top;\n",
       "    }\n",
       "\n",
       "    .dataframe thead th {\n",
       "        text-align: right;\n",
       "    }\n",
       "</style>\n",
       "<table border=\"1\" class=\"dataframe\">\n",
       "  <thead>\n",
       "    <tr style=\"text-align: right;\">\n",
       "      <th></th>\n",
       "      <th>building</th>\n",
       "      <th>device_count</th>\n",
       "      <th>timestamp</th>\n",
       "    </tr>\n",
       "  </thead>\n",
       "  <tbody>\n",
       "    <tr>\n",
       "      <th>607155</th>\n",
       "      <td>UREC</td>\n",
       "      <td>99701</td>\n",
       "      <td>2022-11-04 17:00:00</td>\n",
       "    </tr>\n",
       "    <tr>\n",
       "      <th>607156</th>\n",
       "      <td>UREC</td>\n",
       "      <td>99701</td>\n",
       "      <td>2022-11-04 17:00:00</td>\n",
       "    </tr>\n",
       "    <tr>\n",
       "      <th>607157</th>\n",
       "      <td>UREC</td>\n",
       "      <td>99701</td>\n",
       "      <td>2022-11-04 17:00:00</td>\n",
       "    </tr>\n",
       "    <tr>\n",
       "      <th>607158</th>\n",
       "      <td>UREC</td>\n",
       "      <td>99701</td>\n",
       "      <td>2022-11-04 17:00:00</td>\n",
       "    </tr>\n",
       "    <tr>\n",
       "      <th>607159</th>\n",
       "      <td>UREC</td>\n",
       "      <td>99701</td>\n",
       "      <td>2022-11-04 17:00:00</td>\n",
       "    </tr>\n",
       "    <tr>\n",
       "      <th>...</th>\n",
       "      <td>...</td>\n",
       "      <td>...</td>\n",
       "      <td>...</td>\n",
       "    </tr>\n",
       "    <tr>\n",
       "      <th>689313</th>\n",
       "      <td>UREC</td>\n",
       "      <td>113123</td>\n",
       "      <td>2022-11-04 18:00:00</td>\n",
       "    </tr>\n",
       "    <tr>\n",
       "      <th>689314</th>\n",
       "      <td>UREC</td>\n",
       "      <td>113124</td>\n",
       "      <td>2022-11-04 18:00:00</td>\n",
       "    </tr>\n",
       "    <tr>\n",
       "      <th>689315</th>\n",
       "      <td>UREC</td>\n",
       "      <td>113124</td>\n",
       "      <td>2022-11-04 18:00:00</td>\n",
       "    </tr>\n",
       "    <tr>\n",
       "      <th>689316</th>\n",
       "      <td>UREC</td>\n",
       "      <td>113124</td>\n",
       "      <td>2022-11-04 18:00:00</td>\n",
       "    </tr>\n",
       "    <tr>\n",
       "      <th>689317</th>\n",
       "      <td>UREC</td>\n",
       "      <td>113124</td>\n",
       "      <td>2022-11-04 18:00:00</td>\n",
       "    </tr>\n",
       "  </tbody>\n",
       "</table>\n",
       "<p>82163 rows × 3 columns</p>\n",
       "</div>"
      ],
      "text/plain": [
       "       building  device_count           timestamp\n",
       "607155     UREC         99701 2022-11-04 17:00:00\n",
       "607156     UREC         99701 2022-11-04 17:00:00\n",
       "607157     UREC         99701 2022-11-04 17:00:00\n",
       "607158     UREC         99701 2022-11-04 17:00:00\n",
       "607159     UREC         99701 2022-11-04 17:00:00\n",
       "...         ...           ...                 ...\n",
       "689313     UREC        113123 2022-11-04 18:00:00\n",
       "689314     UREC        113124 2022-11-04 18:00:00\n",
       "689315     UREC        113124 2022-11-04 18:00:00\n",
       "689316     UREC        113124 2022-11-04 18:00:00\n",
       "689317     UREC        113124 2022-11-04 18:00:00\n",
       "\n",
       "[82163 rows x 3 columns]"
      ]
     },
     "execution_count": 13,
     "metadata": {},
     "output_type": "execute_result"
    }
   ],
   "source": [
    "# convert jan1.csv to dataframe\n",
    "df = pd.read_csv('jan1.csv')\n",
    "# convert time to datetime\n",
    "df['timestamp'] = pd.to_datetime(df['time'])\n",
    "# get type of time column\n",
    "print('timestamp column type: ', df['timestamp'].dtype)\n",
    "# diplay from time 00:00:00 to 00:00:59\n",
    "df1 = df.loc[(df['timestamp'] >= '17:00:00') & (df['timestamp'] <= '18:00:00')]\n",
    "# drop date and month column\n",
    "df1 = df1.drop(['date', 'month', 'time'], axis=1)\n",
    "df1\n"
   ]
  },
  {
   "cell_type": "code",
   "execution_count": null,
   "metadata": {},
   "outputs": [],
   "source": []
  }
 ],
 "metadata": {
  "kernelspec": {
   "display_name": "Python 3.8.3 ('base')",
   "language": "python",
   "name": "python3"
  },
  "language_info": {
   "codemirror_mode": {
    "name": "ipython",
    "version": 3
   },
   "file_extension": ".py",
   "mimetype": "text/x-python",
   "name": "python",
   "nbconvert_exporter": "python",
   "pygments_lexer": "ipython3",
   "version": "3.8.3"
  },
  "orig_nbformat": 4,
  "vscode": {
   "interpreter": {
    "hash": "40d3a090f54c6569ab1632332b64b2c03c39dcf918b08424e98f38b5ae0af88f"
   }
  }
 },
 "nbformat": 4,
 "nbformat_minor": 2
}
